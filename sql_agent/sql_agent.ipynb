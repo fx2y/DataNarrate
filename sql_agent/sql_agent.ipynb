{
 "cells": [
  {
   "cell_type": "code",
   "id": "initial_id",
   "metadata": {
    "collapsed": true,
    "ExecuteTime": {
     "end_time": "2024-09-01T12:18:30.262542Z",
     "start_time": "2024-09-01T12:18:26.036202Z"
    }
   },
   "source": [
    "from langchain_community.utilities import SQLDatabase\n",
    "from langchain_openai import ChatOpenAI\n",
    "\n",
    "from datanarrate.config import config as cfg\n",
    "\n",
    "llm = ChatOpenAI(model=cfg.LLM_MODEL_NAME, openai_api_base=cfg.OPENAI_API_BASE,\n",
    "                 openai_api_key=cfg.OPENAI_API_KEY, temperature=0)\n",
    "\n",
    "db = SQLDatabase.from_uri(cfg.SQLALCHEMY_DATABASE_URI)"
   ],
   "outputs": [],
   "execution_count": 1
  },
  {
   "metadata": {
    "ExecuteTime": {
     "end_time": "2024-09-01T12:20:23.621507Z",
     "start_time": "2024-09-01T12:20:23.433497Z"
    }
   },
   "cell_type": "code",
   "source": [
    "from langchain_community.agent_toolkits import SQLDatabaseToolkit\n",
    "\n",
    "toolkit = SQLDatabaseToolkit(db=db, llm=llm)\n",
    "tools = toolkit.get_tools()"
   ],
   "id": "23a3383da70164a6",
   "outputs": [],
   "execution_count": 2
  },
  {
   "metadata": {
    "ExecuteTime": {
     "end_time": "2024-09-01T12:22:01.257470Z",
     "start_time": "2024-09-01T12:22:01.249255Z"
    }
   },
   "cell_type": "code",
   "source": "list_tables_tool = next(tool for tool in tools if tool.name == \"sql_db_list_tables\")",
   "id": "ef06be8bf2c839a4",
   "outputs": [],
   "execution_count": 4
  },
  {
   "metadata": {
    "ExecuteTime": {
     "end_time": "2024-09-01T12:24:27.020275Z",
     "start_time": "2024-09-01T12:24:26.995437Z"
    }
   },
   "cell_type": "code",
   "source": [
    "from langchain_core.messages import HumanMessage\n",
    "\n",
    "list_tables_tool.invoke({\"messages\": [HumanMessage(content=\"Create a line chart showing the economic growth trends for all provinces from 2018 to 2023.\")]})"
   ],
   "id": "ec6a5ce91f3fcba8",
   "outputs": [
    {
     "data": {
      "text/plain": [
       "'catalogs, economic_export_provinces, economic_gini_ratio_provinces, economic_gini_ratio_regencies, economic_growth_provinces, economic_growth_regencies, economic_industrial_micro_provinces, economic_industrial_small_provinces, economic_inflation_provinces, economic_koperasi_business_volume_provinces, economic_koperasi_provinces, economic_total_personal_outcome_provinces, economic_total_personal_outcome_regencies, indonesia_cities, indonesia_districts, indonesia_provinces, indonesia_villages, migrations'"
      ]
     },
     "execution_count": 6,
     "metadata": {},
     "output_type": "execute_result"
    }
   ],
   "execution_count": 6
  },
  {
   "metadata": {},
   "cell_type": "code",
   "outputs": [],
   "execution_count": null,
   "source": "",
   "id": "b1f5d2631b7c01d2"
  }
 ],
 "metadata": {
  "kernelspec": {
   "display_name": "Python 3",
   "language": "python",
   "name": "python3"
  },
  "language_info": {
   "codemirror_mode": {
    "name": "ipython",
    "version": 2
   },
   "file_extension": ".py",
   "mimetype": "text/x-python",
   "name": "python",
   "nbconvert_exporter": "python",
   "pygments_lexer": "ipython2",
   "version": "2.7.6"
  }
 },
 "nbformat": 4,
 "nbformat_minor": 5
}
